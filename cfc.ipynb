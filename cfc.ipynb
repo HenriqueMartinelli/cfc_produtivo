{
 "cells": [
  {
   "cell_type": "code",
   "execution_count": 86,
   "metadata": {},
   "outputs": [],
   "source": [
    "import requests\n",
    "from bs4 import BeautifulSoup"
   ]
  },
  {
   "cell_type": "code",
   "execution_count": null,
   "metadata": {},
   "outputs": [],
   "source": [
    "URL_BASE = 'https://www.cfcprodutivo.com.br'\n",
    "URL_BUSCA = URL_BASE + '/framework/admin/ajax/'"
   ]
  },
  {
   "cell_type": "code",
   "execution_count": 87,
   "metadata": {},
   "outputs": [],
   "source": [
    "s = requests.session()\n",
    "URL_LOGIN = 'https://cfcprodutivo.com.br/framework/admin/ajax/login.php'\n",
    "\n",
    "payload = {'login': 'cfcadm',\n",
    "            'senha': 'abc123'}\n",
    "\n",
    "login = s.request('POST', URL_LOGIN, data=payload)"
   ]
  },
  {
   "cell_type": "code",
   "execution_count": 88,
   "metadata": {},
   "outputs": [
    {
     "name": "stdout",
     "output_type": "stream",
     "text": [
      "ACHOU\n"
     ]
    }
   ],
   "source": [
    "\n",
    "headers = {\n",
    "    'accept': 'application/json, text/javascript, */*; q=0.01',\n",
    "    'referer': 'https://www.cfcprodutivo.com.br/framework/admin/listar/alunos',\n",
    "    'user-agent': 'Mozilla/5.0 (Windows NT 10.0; Win64; x64) AppleWebKit/537.36 (KHTML, like Gecko) Chrome/109.0.0.0 Safari/537.36',\n",
    "    'x-requested-with': 'XMLHttpRequest',\n",
    "}\n",
    "\n",
    "params = {\n",
    "    'iDisplayStart': '0',\n",
    "    'iDisplayLength': '100',\n",
    "    'iSortCol_0': '1',\n",
    "    'sSortDir_0': 'desc',\n",
    "}\n",
    "\n",
    "response = s.get(\n",
    "    'https://www.cfcprodutivo.com.br/framework/admin/ajax/ajaxListaClientesAlunos.php',\n",
    "    params=params,\n",
    "    headers=headers,\n",
    ")\n",
    "\n",
    "if 'douglas-ferreira-alves' in response.text:\n",
    "    print('ACHOU')"
   ]
  },
  {
   "cell_type": "code",
   "execution_count": 89,
   "metadata": {},
   "outputs": [
    {
     "ename": "AttributeError",
     "evalue": "'NoneType' object has no attribute 'find'",
     "output_type": "error",
     "traceback": [
      "\u001b[0;31m---------------------------------------------------------------------------\u001b[0m",
      "\u001b[0;31mAttributeError\u001b[0m                            Traceback (most recent call last)",
      "\u001b[1;32m/home/linux/cfc_produtivo/cfc.ipynb Cell 4\u001b[0m in \u001b[0;36m<cell line: 2>\u001b[0;34m()\u001b[0m\n\u001b[1;32m      <a href='vscode-notebook-cell://wsl%2Bubuntu/home/linux/cfc_produtivo/cfc.ipynb#W5sdnNjb2RlLXJlbW90ZQ%3D%3D?line=0'>1</a>\u001b[0m soap \u001b[39m=\u001b[39m BeautifulSoup(response\u001b[39m.\u001b[39mcontent, \u001b[39m'\u001b[39m\u001b[39mhtml.parser\u001b[39m\u001b[39m'\u001b[39m)\n\u001b[0;32m----> <a href='vscode-notebook-cell://wsl%2Bubuntu/home/linux/cfc_produtivo/cfc.ipynb#W5sdnNjb2RlLXJlbW90ZQ%3D%3D?line=1'>2</a>\u001b[0m soap\u001b[39m.\u001b[39;49mfind(\u001b[39m'\u001b[39;49m\u001b[39mtbody\u001b[39;49m\u001b[39m'\u001b[39;49m)\u001b[39m.\u001b[39;49mfind(\u001b[39m'\u001b[39m\u001b[39ma\u001b[39m\u001b[39m'\u001b[39m)[\u001b[39m'\u001b[39m\u001b[39mhref\u001b[39m\u001b[39m'\u001b[39m]\n",
      "\u001b[0;31mAttributeError\u001b[0m: 'NoneType' object has no attribute 'find'"
     ]
    }
   ],
   "source": [
    "soap = BeautifulSoup(response.content, 'html.parser')\n",
    "soap.find('tbody').find('a')['href']"
   ]
  },
  {
   "cell_type": "code",
   "execution_count": null,
   "metadata": {},
   "outputs": [],
   "source": [
    "links = soap.findAll('a')\n",
    "\n",
    "for link in links:\n",
    "    url_form = link['href'].replace('\\\\', '').replace('\"', '')\n",
    "    response_page = s.request(\"GET\", URL_BASE + url_form)\n",
    "    break\n",
    "    "
   ]
  },
  {
   "cell_type": "code",
   "execution_count": null,
   "metadata": {},
   "outputs": [
    {
     "ename": "AttributeError",
     "evalue": "'NoneType' object has no attribute 'findAll'",
     "output_type": "error",
     "traceback": [
      "\u001b[0;31m---------------------------------------------------------------------------\u001b[0m",
      "\u001b[0;31mAttributeError\u001b[0m                            Traceback (most recent call last)",
      "\u001b[1;32m/home/linux/cfc_produtivo/cfc.ipynb Cell 6\u001b[0m in \u001b[0;36m<cell line: 3>\u001b[0;34m()\u001b[0m\n\u001b[1;32m      <a href='vscode-notebook-cell://wsl%2Bubuntu/home/linux/cfc_produtivo/cfc.ipynb#X11sdnNjb2RlLXJlbW90ZQ%3D%3D?line=0'>1</a>\u001b[0m soap \u001b[39m=\u001b[39m BeautifulSoup(response_page\u001b[39m.\u001b[39mcontent, \u001b[39m'\u001b[39m\u001b[39mhtml.parser\u001b[39m\u001b[39m'\u001b[39m)\n\u001b[1;32m      <a href='vscode-notebook-cell://wsl%2Bubuntu/home/linux/cfc_produtivo/cfc.ipynb#X11sdnNjb2RlLXJlbW90ZQ%3D%3D?line=1'>2</a>\u001b[0m table_infos \u001b[39m=\u001b[39m soap\u001b[39m.\u001b[39mfind(\u001b[39m\"\u001b[39m\u001b[39mdiv\u001b[39m\u001b[39m\"\u001b[39m, {\u001b[39m\"\u001b[39m\u001b[39mid\u001b[39m\u001b[39m\"\u001b[39m: \u001b[39m\"\u001b[39m\u001b[39mfichaDoAluno\u001b[39m\u001b[39m\"\u001b[39m})\n\u001b[0;32m----> <a href='vscode-notebook-cell://wsl%2Bubuntu/home/linux/cfc_produtivo/cfc.ipynb#X11sdnNjb2RlLXJlbW90ZQ%3D%3D?line=2'>3</a>\u001b[0m \u001b[39mfor\u001b[39;00m linha \u001b[39min\u001b[39;00m table_infos\u001b[39m.\u001b[39;49mfindAll(\u001b[39m\"\u001b[39m\u001b[39mdiv\u001b[39m\u001b[39m\"\u001b[39m, {\u001b[39m\"\u001b[39m\u001b[39mclass\u001b[39m\u001b[39m\"\u001b[39m: \u001b[39m\"\u001b[39m\u001b[39mrow-fluid\u001b[39m\u001b[39m\"\u001b[39m}):\n\u001b[1;32m      <a href='vscode-notebook-cell://wsl%2Bubuntu/home/linux/cfc_produtivo/cfc.ipynb#X11sdnNjb2RlLXJlbW90ZQ%3D%3D?line=3'>4</a>\u001b[0m     \u001b[39mprint\u001b[39m(linha)\n\u001b[1;32m      <a href='vscode-notebook-cell://wsl%2Bubuntu/home/linux/cfc_produtivo/cfc.ipynb#X11sdnNjb2RlLXJlbW90ZQ%3D%3D?line=4'>5</a>\u001b[0m     \u001b[39mbreak\u001b[39;00m\n",
      "\u001b[0;31mAttributeError\u001b[0m: 'NoneType' object has no attribute 'findAll'"
     ]
    }
   ],
   "source": [
    "# soap = BeautifulSoup(response_page.content, 'html.parser')\n",
    "# table_infos = soap.find(\"div\", {\"id\": \"fichaDoAluno\"})\n",
    "# for linha in table_infos.findAll(\"div\", {\"class\": \"row-fluid\"}):\n",
    "#     print(linha)\n",
    "#     break"
   ]
  },
  {
   "cell_type": "code",
   "execution_count": null,
   "metadata": {},
   "outputs": [],
   "source": [
    "import re \n",
    "id = int(re.search(r'\\d+', response_page.url).group())\n",
    "\n",
    "URL_FICHA = 'https://www.cfcprodutivo.com.br/framework/admin/ajax/containerTabClientesAlunosVerFicha.php?'"
   ]
  },
  {
   "cell_type": "code",
   "execution_count": 90,
   "metadata": {},
   "outputs": [],
   "source": [
    "params = {\n",
    "    'idAluno': id\n",
    "}\n",
    "response_ficha = s.request(\"GET\", URL_FICHA, params=params)\n",
    "\n",
    "soap = BeautifulSoup(response_ficha.content, 'html.parser')\n",
    "table_infos = soap.find(\"div\", {\"id\": \"fichaDoAluno\"})\n",
    "ficha = dict()\n",
    "for linha in table_infos.findAll(\"div\", {\"class\": \"control-group\"}):\n",
    "    ficha.update(\n",
    "        {\n",
    "            linha.label.text.strip(): linha.find(\"div\", {\"class\": \"controls\"}).text.strip()\n",
    "        })\n",
    "\n"
   ]
  },
  {
   "cell_type": "code",
   "execution_count": 107,
   "metadata": {},
   "outputs": [],
   "source": [
    "\n"
   ]
  },
  {
   "cell_type": "code",
   "execution_count": 108,
   "metadata": {},
   "outputs": [
    {
     "data": {
      "text/plain": [
       "{'Aluno ativo': 'Sim',\n",
       " 'Origem': 'Facebook',\n",
       " 'Observações': '-',\n",
       " 'Número de\\nregistro': '-',\n",
       " 'Início do processo': '',\n",
       " 'Cat. pretendida\\nN': 'AB',\n",
       " 'RG': '306675729',\n",
       " 'Data de emissão': '14/03/2022',\n",
       " 'Órgão emissor': 'DETRAN',\n",
       " 'Mãe': 'Claudia de Cassia da Silva',\n",
       " 'Pai': 'Roberto da Conceição Vigo',\n",
       " 'Usuário que cadastrou': 'Lucas',\n",
       " 'Local de nascimento\\nN': '-',\n",
       " 'Dados bancários\\nN': '-',\n",
       " 'Data de nascimento': '08/02/2004',\n",
       " 'E-mail': '-',\n",
       " 'Estado civil': '',\n",
       " 'Profissão': '-',\n",
       " 'Nacionalidade': '',\n",
       " 'Naturalidade': '',\n",
       " 'Gênero': 'Feminino',\n",
       " 'Escolaridade': '',\n",
       " 'Facebook': '-',\n",
       " 'Doador de órgãos': 'Não',\n",
       " 'Tipo Sanguíneo': ''}"
      ]
     },
     "execution_count": 108,
     "metadata": {},
     "output_type": "execute_result"
    }
   ],
   "source": [
    "ficha"
   ]
  },
  {
   "cell_type": "code",
   "execution_count": null,
   "metadata": {},
   "outputs": [],
   "source": []
  }
 ],
 "metadata": {
  "kernelspec": {
   "display_name": "Python 3.8.10 64-bit",
   "language": "python",
   "name": "python3"
  },
  "language_info": {
   "codemirror_mode": {
    "name": "ipython",
    "version": 3
   },
   "file_extension": ".py",
   "mimetype": "text/x-python",
   "name": "python",
   "nbconvert_exporter": "python",
   "pygments_lexer": "ipython3",
   "version": "3.8.10"
  },
  "orig_nbformat": 4,
  "vscode": {
   "interpreter": {
    "hash": "916dbcbb3f70747c44a77c7bcd40155683ae19c65e1c03b4aa3499c5328201f1"
   }
  }
 },
 "nbformat": 4,
 "nbformat_minor": 2
}
