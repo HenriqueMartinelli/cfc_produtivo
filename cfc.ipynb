{
 "cells": [
  {
   "cell_type": "code",
   "execution_count": 28,
   "metadata": {},
   "outputs": [],
   "source": [
    "import requests\n",
    "from bs4 import BeautifulSoup"
   ]
  },
  {
   "cell_type": "code",
   "execution_count": 29,
   "metadata": {},
   "outputs": [],
   "source": [
    "URL_BASE = 'https://www.cfcprodutivo.com.br'\n",
    "URL_BUSCA = URL_BASE + '/framework/admin/ajax/'"
   ]
  },
  {
   "cell_type": "code",
   "execution_count": 30,
   "metadata": {},
   "outputs": [],
   "source": [
    "s = requests.session()\n",
    "URL_LOGIN = 'https://cfcprodutivo.com.br/framework/admin/ajax/login.php'\n",
    "\n",
    "payload = {'login': 'cfcadm',\n",
    "            'senha': 'abc123'}\n",
    "\n",
    "login = s.request('POST', URL_LOGIN, data=payload)"
   ]
  },
  {
   "cell_type": "code",
   "execution_count": 31,
   "metadata": {},
   "outputs": [
    {
     "name": "stdout",
     "output_type": "stream",
     "text": [
      "ACHOU\n"
     ]
    }
   ],
   "source": [
    "\n",
    "headers = {\n",
    "    'accept': 'application/json, text/javascript, */*; q=0.01',\n",
    "    'referer': 'https://www.cfcprodutivo.com.br/framework/admin/listar/alunos',\n",
    "    'user-agent': 'Mozilla/5.0 (Windows NT 10.0; Win64; x64) AppleWebKit/537.36 (KHTML, like Gecko) Chrome/109.0.0.0 Safari/537.36',\n",
    "    'x-requested-with': 'XMLHttpRequest',\n",
    "}\n",
    "\n",
    "params = {\n",
    "    'iDisplayStart': '0',\n",
    "    'iDisplayLength': '100',\n",
    "    'iSortCol_0': '1',\n",
    "    'sSortDir_0': 'desc',\n",
    "}\n",
    "\n",
    "response = s.get(\n",
    "    'https://www.cfcprodutivo.com.br/framework/admin/ajax/ajaxListaClientesAlunos.php',\n",
    "    params=params,\n",
    "    headers=headers,\n",
    ")\n",
    "\n",
    "if 'douglas-ferreira-alves' in response.text:\n",
    "    print('ACHOU')"
   ]
  },
  {
   "cell_type": "code",
   "execution_count": null,
   "metadata": {},
   "outputs": [],
   "source": []
  },
  {
   "cell_type": "code",
   "execution_count": 65,
   "metadata": {},
   "outputs": [],
   "source": [
    "soap = BeautifulSoup(response.content, 'html.parser')\n",
    "links = soap.findAll('a')\n",
    "\n",
    "for link in links:\n",
    "    url_form = link['href'].replace('\\\\', '').replace('\"', '')\n",
    "    response_page = s.request(\"GET\", URL_BASE + url_form)\n",
    "    break\n",
    "    "
   ]
  },
  {
   "cell_type": "code",
   "execution_count": 66,
   "metadata": {},
   "outputs": [],
   "source": [
    "# soap = BeautifulSoup(response_page.content, 'html.parser')\n",
    "# table_infos = soap.find(\"div\", {\"id\": \"fichaDoAluno\"})\n",
    "# for linha in table_infos.findAll(\"div\", {\"class\": \"row-fluid\"}):\n",
    "#     print(linha)\n",
    "#     break"
   ]
  },
  {
   "cell_type": "code",
   "execution_count": 67,
   "metadata": {},
   "outputs": [],
   "source": [
    "import re \n",
    "id = int(re.search(r'\\d+', response_page.url).group())\n",
    "\n",
    "URL_FICHA = URL_BUSCA + 'containerTabClientesAlunosVerFicha.php?'"
   ]
  },
  {
   "cell_type": "code",
   "execution_count": 68,
   "metadata": {},
   "outputs": [],
   "source": [
    "params = {\n",
    "    'idAluno': id\n",
    "}\n",
    "response_ficha = s.request(\"GET\", URL_FICHA, params=params)\n",
    "\n",
    "soap = BeautifulSoup(response_ficha.content, 'html.parser')\n",
    "table_infos = soap.find(\"div\", {\"id\": \"fichaDoAluno\"})\n",
    "ficha = dict()\n",
    "for linha in table_infos.findAll(\"div\", {\"class\": \"control-group\"}):\n",
    "    ficha.update(\n",
    "        {\n",
    "            linha.label.text.strip(): linha.find(\"div\", {\"class\": \"controls\"}).text.strip()\n",
    "        })\n",
    "\n"
   ]
  },
  {
   "cell_type": "code",
   "execution_count": 69,
   "metadata": {},
   "outputs": [],
   "source": [
    "URL_FINANCEIRO = URL_BUSCA + 'containerTabClientesAlunosVerMovimentacoes.php'\n",
    "\n",
    "params = {\n",
    "    'idAluno': id\n",
    "}\n",
    "response_ficha = s.request(\"GET\", URL_FINANCEIRO, params=params)\n",
    "\n",
    "soap = BeautifulSoup(response_ficha.content, 'html.parser')\n",
    "financeiro = dict()\n",
    "nome_coluna = soap.thead.findAll('th')\n",
    "tds = soap.tbody.findAll('td')\n",
    "for index, nome in enumerate(nome_coluna[0:-2]):\n",
    "    financeiro.update(\n",
    "        {\n",
    "            nome.text.strip(): tds[index].text.strip()\n",
    "        }\n",
    "    )\n",
    "\n"
   ]
  },
  {
   "cell_type": "code",
   "execution_count": 96,
   "metadata": {},
   "outputs": [],
   "source": [
    "import json\n",
    "f = soap.find('div', {'class': 'btn-group right'}).strong\n",
    "r = json.loads(f)"
   ]
  },
  {
   "cell_type": "code",
   "execution_count": 101,
   "metadata": {},
   "outputs": [
    {
     "ename": "AttributeError",
     "evalue": "'str' object has no attribute 'read'",
     "output_type": "error",
     "traceback": [
      "\u001b[0;31m---------------------------------------------------------------------------\u001b[0m",
      "\u001b[0;31mAttributeError\u001b[0m                            Traceback (most recent call last)",
      "\u001b[1;32m/home/linux/cfc_produtivo/cfc.ipynb Cell 12\u001b[0m in \u001b[0;36m<cell line: 1>\u001b[0;34m()\u001b[0m\n\u001b[0;32m----> <a href='vscode-notebook-cell://wsl%2Bubuntu/home/linux/cfc_produtivo/cfc.ipynb#X23sdnNjb2RlLXJlbW90ZQ%3D%3D?line=0'>1</a>\u001b[0m json\u001b[39m.\u001b[39;49mload(r)\n",
      "File \u001b[0;32m/usr/lib/python3.8/json/__init__.py:293\u001b[0m, in \u001b[0;36mload\u001b[0;34m(fp, cls, object_hook, parse_float, parse_int, parse_constant, object_pairs_hook, **kw)\u001b[0m\n\u001b[1;32m    274\u001b[0m \u001b[39mdef\u001b[39;00m \u001b[39mload\u001b[39m(fp, \u001b[39m*\u001b[39m, \u001b[39mcls\u001b[39m\u001b[39m=\u001b[39m\u001b[39mNone\u001b[39;00m, object_hook\u001b[39m=\u001b[39m\u001b[39mNone\u001b[39;00m, parse_float\u001b[39m=\u001b[39m\u001b[39mNone\u001b[39;00m,\n\u001b[1;32m    275\u001b[0m         parse_int\u001b[39m=\u001b[39m\u001b[39mNone\u001b[39;00m, parse_constant\u001b[39m=\u001b[39m\u001b[39mNone\u001b[39;00m, object_pairs_hook\u001b[39m=\u001b[39m\u001b[39mNone\u001b[39;00m, \u001b[39m*\u001b[39m\u001b[39m*\u001b[39mkw):\n\u001b[1;32m    276\u001b[0m     \u001b[39m\"\"\"Deserialize ``fp`` (a ``.read()``-supporting file-like object containing\u001b[39;00m\n\u001b[1;32m    277\u001b[0m \u001b[39m    a JSON document) to a Python object.\u001b[39;00m\n\u001b[1;32m    278\u001b[0m \n\u001b[0;32m   (...)\u001b[0m\n\u001b[1;32m    291\u001b[0m \u001b[39m    kwarg; otherwise ``JSONDecoder`` is used.\u001b[39;00m\n\u001b[1;32m    292\u001b[0m \u001b[39m    \"\"\"\u001b[39;00m\n\u001b[0;32m--> 293\u001b[0m     \u001b[39mreturn\u001b[39;00m loads(fp\u001b[39m.\u001b[39;49mread(),\n\u001b[1;32m    294\u001b[0m         \u001b[39mcls\u001b[39m\u001b[39m=\u001b[39m\u001b[39mcls\u001b[39m, object_hook\u001b[39m=\u001b[39mobject_hook,\n\u001b[1;32m    295\u001b[0m         parse_float\u001b[39m=\u001b[39mparse_float, parse_int\u001b[39m=\u001b[39mparse_int,\n\u001b[1;32m    296\u001b[0m         parse_constant\u001b[39m=\u001b[39mparse_constant, object_pairs_hook\u001b[39m=\u001b[39mobject_pairs_hook, \u001b[39m*\u001b[39m\u001b[39m*\u001b[39mkw)\n",
      "\u001b[0;31mAttributeError\u001b[0m: 'str' object has no attribute 'read'"
     ]
    }
   ],
   "source": [
    "json.load(r)"
   ]
  },
  {
   "cell_type": "code",
   "execution_count": 102,
   "metadata": {},
   "outputs": [
    {
     "data": {
      "text/plain": [
       "'\"{Totais (entradas): Contratado: R$ 2.100,00,  | \\\\u00a0\\\\nPago: R$ 2.100,00,  | \\\\u00a0\\\\nPendente: R$ 0,00}\"'"
      ]
     },
     "execution_count": 102,
     "metadata": {},
     "output_type": "execute_result"
    }
   ],
   "source": [
    "f"
   ]
  },
  {
   "cell_type": "code",
   "execution_count": 103,
   "metadata": {},
   "outputs": [
    {
     "data": {
      "text/plain": [
       "{'Descrição': 'Contrato - Serviços: 1° HABILITAÇÃO AB - CARTÃO (1)',\n",
       " 'Tipo': 'Entrada (receber)',\n",
       " 'Usuário': 'Gisele',\n",
       " 'Data de cadastro': '23/01/2023 13:11:25',\n",
       " 'Valor total': 'R$ 2.100,00',\n",
       " 'Já quitado': 'R$ 2.100,00',\n",
       " 'Parcelas': '1/1',\n",
       " 'Parcelas em atraso': '0',\n",
       " 'Forma de pagamento': 'Cartão de Crédito'}"
      ]
     },
     "execution_count": 103,
     "metadata": {},
     "output_type": "execute_result"
    }
   ],
   "source": [
    "financeiro"
   ]
  },
  {
   "cell_type": "code",
   "execution_count": null,
   "metadata": {},
   "outputs": [],
   "source": []
  }
 ],
 "metadata": {
  "kernelspec": {
   "display_name": "Python 3.8.10 64-bit",
   "language": "python",
   "name": "python3"
  },
  "language_info": {
   "codemirror_mode": {
    "name": "ipython",
    "version": 3
   },
   "file_extension": ".py",
   "mimetype": "text/x-python",
   "name": "python",
   "nbconvert_exporter": "python",
   "pygments_lexer": "ipython3",
   "version": "3.8.10"
  },
  "orig_nbformat": 4,
  "vscode": {
   "interpreter": {
    "hash": "916dbcbb3f70747c44a77c7bcd40155683ae19c65e1c03b4aa3499c5328201f1"
   }
  }
 },
 "nbformat": 4,
 "nbformat_minor": 2
}
