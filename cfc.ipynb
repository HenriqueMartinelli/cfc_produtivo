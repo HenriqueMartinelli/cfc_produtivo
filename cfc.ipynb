{
 "cells": [
  {
   "cell_type": "code",
   "execution_count": 1,
   "metadata": {},
   "outputs": [
    {
     "name": "stderr",
     "output_type": "stream",
     "text": [
      "/usr/lib/python3/dist-packages/requests/__init__.py:89: RequestsDependencyWarning: urllib3 (1.26.11) or chardet (3.0.4) doesn't match a supported version!\n",
      "  warnings.warn(\"urllib3 ({}) or chardet ({}) doesn't match a supported \"\n"
     ]
    }
   ],
   "source": [
    "import requests\n",
    "from bs4 import BeautifulSoup"
   ]
  },
  {
   "cell_type": "code",
   "execution_count": 37,
   "metadata": {},
   "outputs": [],
   "source": [
    "URL_BASE = 'https://www.cfcprodutivo.com.br'\n",
    "URL_BUSCA = URL_BASE + '/framework/admin/ajax/'\n",
    "URL_PERFIL = URL_BASE + '/framework/admin/editar/alunos/'\n",
    "URL_TEORICA = URL_BUSCA + 'containerTabClientesAlunosVerAgendaTeoricaGrade1.1.php'"
   ]
  },
  {
   "cell_type": "code",
   "execution_count": 38,
   "metadata": {},
   "outputs": [],
   "source": [
    "s = requests.session()\n",
    "URL_LOGIN = 'https://cfcprodutivo.com.br/framework/admin/ajax/login.php'\n",
    "\n",
    "payload = {'login': 'cfcadm',\n",
    "            'senha': 'abc123'}\n",
    "\n",
    "login = s.request('POST', URL_LOGIN, data=payload)"
   ]
  },
  {
   "cell_type": "code",
   "execution_count": 39,
   "metadata": {},
   "outputs": [
    {
     "name": "stdout",
     "output_type": "stream",
     "text": [
      "ACHOU\n"
     ]
    }
   ],
   "source": [
    "\n",
    "headers = {\n",
    "    'accept': 'application/json, text/javascript, */*; q=0.01',\n",
    "    'referer': 'https://www.cfcprodutivo.com.br/framework/admin/listar/alunos',\n",
    "    'user-agent': 'Mozilla/5.0 (Windows NT 10.0; Win64; x64) AppleWebKit/537.36 (KHTML, like Gecko) Chrome/109.0.0.0 Safari/537.36',\n",
    "    'x-requested-with': 'XMLHttpRequest',\n",
    "}\n",
    "\n",
    "params = {\n",
    "    'iDisplayStart': '0',\n",
    "    'iDisplayLength': '100',\n",
    "    'iSortCol_0': '1',\n",
    "    'sSortDir_0': 'desc',\n",
    "}\n",
    "\n",
    "response = s.get(\n",
    "    'https://www.cfcprodutivo.com.br/framework/admin/ajax/ajaxListaClientesAlunos.php',\n",
    "    params=params,\n",
    "    headers=headers,\n",
    ")\n",
    "\n",
    "if 'douglas-ferreira-alves' in response.text:\n",
    "    print('ACHOU')"
   ]
  },
  {
   "cell_type": "code",
   "execution_count": 40,
   "metadata": {},
   "outputs": [],
   "source": [
    "soap = BeautifulSoup(response.content, 'html.parser')\n"
   ]
  },
  {
   "cell_type": "code",
   "execution_count": 44,
   "metadata": {},
   "outputs": [],
   "source": [
    "soap = BeautifulSoup(response.content, 'html.parser')\n",
    "links = soap.findAll('a')\n",
    "\n",
    "for link in links:\n",
    "    url_form = link['href'].replace('\\\\', '').replace('\"', '')\n",
    "    response_page = s.request(\"GET\", URL_BASE + url_form)\n",
    "    break\n",
    "\n",
    "        "
   ]
  },
  {
   "cell_type": "code",
   "execution_count": null,
   "metadata": {},
   "outputs": [],
   "source": [
    "import re \n",
    "id = int(re.search(r'\\d+', response_page.url).group())\n",
    "id = '4277747'\n",
    "soap = BeautifulSoup(response_page.content, 'html.parser')\n",
    "URL_FICHA = URL_BUSCA + 'containerTabClientesAlunosVerFicha.php?'\n",
    "# PARAMS_TEORICA = soap.select_one('#tab_p_3')['data-url']\n",
    "# URL_TEORICA = URL_BASE + PARAMS_TEORICA\n",
    "## ARRUMAR "
   ]
  },
  {
   "cell_type": "code",
   "execution_count": 63,
   "metadata": {},
   "outputs": [],
   "source": [
    "# URL_TEORICA = URL_BASE + PARAMS_TEORICA\n",
    "url = 'https://cfcprodutivo.com.br/framework/admin/ajax/containerTabClientesAlunosVerAgendaTeoricaGrade1.1.php?idAluno=4277747&dataInicio=2023-01-22'\n",
    "response_teorica = s.request(\"GET\", url)\n",
    "soap = BeautifulSoup(response_teorica.content, 'html.parser')\n",
    "dias_tabela = soap.findAll(\"div\", {\"class\": \"dia\"})\n",
    "aulas = dict()\n",
    "\n",
    "for dia in dias_tabela[1:]:\n",
    "    aulas = dia.select(\"div[class*='ocupadoPeloAluno']\")\n",
    "    if aulas != []:\n",
    "        for aula in aulas:\n",
    "            hora = aula.find(\"div\", {\"class\": \"labelHora\"}).text.strip()\n",
    "            tema = aula.find(\"div\", {\"class\": \"tema\"}).text.strip()\n",
    "            instrutor = aula.find(\"div\", {\"class\": \"instrutor\"}).text.strip()\n",
    "            sala = aula.find(\"div\", {\"class\": \"sala\"}).text.strip()\n",
    "            break"
   ]
  },
  {
   "cell_type": "code",
   "execution_count": 65,
   "metadata": {},
   "outputs": [
    {
     "data": {
      "text/plain": [
       "'13:00'"
      ]
     },
     "execution_count": 65,
     "metadata": {},
     "output_type": "execute_result"
    }
   ],
   "source": [
    "hora"
   ]
  },
  {
   "cell_type": "code",
   "execution_count": 8,
   "metadata": {},
   "outputs": [],
   "source": [
    "\n",
    "def extrair_perfil(id):\n",
    "    response_perfil = s.request(\"GET\", URL_PERFIL + str(id))\n",
    "    soap = BeautifulSoup(response_perfil.content, 'html.parser')\n",
    "    infos = dict()\n",
    "\n",
    "    # for linha in soap.findAll(\"input\"):\n",
    "    #     try: key = linha['name']\n",
    "    #     except: continue\n",
    "\n",
    "    #     try:value = linha['value']\n",
    "    #     except:value = ''\n",
    "\n",
    "        \n",
    "    dados_bancarios = soap.find('textarea', {'id': 'dados_bancarios'}).text.strip()\n",
    "    observaçao = soap.find('textarea', {'id': 'observacoes'}).text.strip()\n",
    "\n",
    "    infos.update(\n",
    "        {\n",
    "            'Id': soap.find('input', {\"name\": \"id\"})['value'],\n",
    "            'Cep': soap.find('input', {\"name\": \"cep\"})['value'],\n",
    "            'Endereço': soap.find('input', {\"name\": \"endereco\"})['value'],\n",
    "            'Número': soap.find('input', {\"name\": \"numero\"})['value'],\n",
    "            'Complemento': soap.find('input', {\"name\": \"complemento\"})['value'],\n",
    "            'Bairro': soap.find('input', {\"name\": \"bairro\"})['value'],\n",
    "            'Cidade': soap.find('input', {\"name\": \"cidade\"})['value'],\n",
    "            'Uf': soap.find('input', {\"name\": \"uf\"})['value'],\n",
    "            \"Dados Bancarios\": dados_bancarios,\n",
    "            \"Observações\": observaçao \n",
    "        })\n",
    "    return infos\n",
    "\n"
   ]
  },
  {
   "cell_type": "code",
   "execution_count": 9,
   "metadata": {},
   "outputs": [],
   "source": [
    "def extrair_ficha(id):\n",
    "\n",
    "    params = {\n",
    "        'idAluno': id\n",
    "    }\n",
    "    response_ficha = s.request(\"GET\", URL_FICHA, params=params)\n",
    "\n",
    "    soap = BeautifulSoup(response_ficha.content, 'html.parser')\n",
    "    table_infos = soap.find(\"div\", {\"id\": \"fichaDoAluno\"})\n",
    "    ficha = dict()\n",
    "    for linha in table_infos.findAll(\"div\", {\"class\": \"control-group\"}):\n",
    "        ficha.update(\n",
    "            {\n",
    "                linha.label.text.strip(): linha.find(\"div\", {\"class\": \"controls\"}).text.strip()\n",
    "            })\n",
    "    return ficha\n",
    "\n"
   ]
  },
  {
   "cell_type": "code",
   "execution_count": 14,
   "metadata": {},
   "outputs": [],
   "source": [
    "\n",
    "def extrair_finaceiro(id):\n",
    "\n",
    "    URL_FINANCEIRO = URL_BUSCA + 'containerTabClientesAlunosVerMovimentacoes.php'\n",
    "\n",
    "    params = {\n",
    "        'idAluno': id\n",
    "    }\n",
    "    response_ficha = s.request(\"GET\", URL_FINANCEIRO, params=params)\n",
    "\n",
    "    soap = BeautifulSoup(response_ficha.content, 'html.parser')\n",
    "    financeiro = list()\n",
    "    nome_coluna = soap.thead.findAll('th')\n",
    "    hrefs_financeiro = soap.findAll('tr')\n",
    "\n",
    "    for href in hrefs_financeiro:\n",
    "\n",
    "        response_financeiro = s.request(\"GET\", URL_BASE + href.td.a['href'], params=params)\n",
    "        soap = BeautifulSoup(response_financeiro.content, 'html.parser')\n",
    "        table = soap.find('table', {'class': 'table'}).tbody\n",
    "\n",
    "\n",
    "        for tr in table.findAll('tr'):\n",
    "            id_historico = False\n",
    "            financeiro_dic = dict()\n",
    "            try:\n",
    "\n",
    "                if tr.get('class') or tr.get('role'):\n",
    "                    tr.decompose()\n",
    "                    continue\n",
    "            except: continue\n",
    "            tds = tr.findAll('td')\n",
    "\n",
    "            financeiro_dic.update({\n",
    "                \"data de vencimento\": tds[1].text.strip(),\n",
    "                \"valor\": tds[2].text.strip(),\n",
    "                \"acrescimos\": tds[3].text.strip(),\n",
    "                \"forma de pagamento\": tds[4].text.strip(),\n",
    "                \"conta\": tds[5].text.strip(),\n",
    "                \"situacao\": tds[6].text.strip(),\n",
    "                \"parcela\": tds[7].text.strip(),\n",
    "\n",
    "            })\n",
    "            id_historico = tds[0].select_one('a[class*=\"btnAbreHistoricoParcelas\"]')['data-id']\n",
    "            if id_historico:\n",
    "                historico = soap.find('tr', {'id': f'blocoHistoricoParcelas_{id_historico}'})\n",
    "\n",
    "                if historico.find('div', {\"class\":\"blocoHistoricoParcelasConteudo\"}):\n",
    "                    tds_historico = historico.tbody.findAll('td')\n",
    "\n",
    "                    informacao_registro = {\n",
    "                        \"data_pagamento\": tds_historico[0].text.strip(),\n",
    "                        \"valor\": tds_historico[1].text.strip(),\n",
    "                        \"usuario\": tds_historico[2].text.strip(),\n",
    "                        \"operacao\": tds_historico[3].text.strip(),\n",
    "                        \"observacao\": tds_historico[4].text.strip(),\n",
    "                        \"ata\": tds_historico[5].text.strip(),\n",
    "                        \"dados_anteriores\": {\n",
    "                            \"valor\": tds_historico[6].text.strip(),\n",
    "                            \"forma_de_pagamento\": tds_historico[7].text.strip(),\n",
    "                            \"conta\": tds_historico[8].text.strip(),\n",
    "                            \"vencimento\": tds_historico[9].text.strip(),\n",
    "                        }\n",
    "                    }\n",
    "                    financeiro_dic.update({\"informacao_registro\": informacao_registro})\n",
    "                else: financeiro_dic.update({\"informacao_registro\": ''})\n",
    "            financeiro.append(financeiro_dic)\n",
    "    return financeiro\n",
    "\n",
    "    \n",
    "\n",
    "\n",
    "# for index, nome in enumerate(nome_coluna[0:-2]):\n",
    "#     financeiro.update(\n",
    "#         {\n",
    "#             nome.text.strip(): tds[index].text.strip()\n",
    "#         }\n",
    "#     )\n",
    "\n",
    "\n"
   ]
  },
  {
   "cell_type": "code",
   "execution_count": 75,
   "metadata": {},
   "outputs": [],
   "source": [
    "historico.find('div', {\"class\":\"blocoHistoricoParcelasConteudo\"})"
   ]
  },
  {
   "cell_type": "code",
   "execution_count": 11,
   "metadata": {},
   "outputs": [],
   "source": [
    "URL_CREDITO = URL_BUSCA + 'containerTabClientesAlunosVerCreditos.php'\n",
    "\n",
    "params = {\n",
    "    'idAluno': id\n",
    "}\n",
    "response_credito = s.request(\"GET\", URL_CREDITO, params=params)\n",
    "\n",
    "soap = BeautifulSoup(response_credito.content, 'html.parser')\n",
    "creditos = dict()\n",
    "for tr in soap.tbody.findAll('tr'):\n",
    "    tds = tr.findAll('td')\n",
    "    creditos.update(\n",
    "        {\n",
    "            \"Credito - \" + tds[0].text + \"/\" + tds[1].text: tds[2].text\n",
    "        }\n",
    "    )\n",
    "\n"
   ]
  },
  {
   "cell_type": "code",
   "execution_count": 12,
   "metadata": {},
   "outputs": [],
   "source": [
    "infos.update(creditos)\n",
    "infos.update(financeiro)\n",
    "infos.update(ficha)"
   ]
  },
  {
   "cell_type": "code",
   "execution_count": 13,
   "metadata": {},
   "outputs": [
    {
     "data": {
      "text/plain": [
       "{'Id': '4334917',\n",
       " 'Cep': '24130820',\n",
       " 'Endereço': 'Travessa Paulistano',\n",
       " 'Número': '25',\n",
       " 'Complemento': 'casa02',\n",
       " 'Bairro': 'Fonseca',\n",
       " 'Cidade': 'Niterói',\n",
       " 'Uf': 'RJ',\n",
       " 'Dados Bancarios': '',\n",
       " 'Observações': '-',\n",
       " 'Credito - Exame clínico/Psicotécnico': '0',\n",
       " 'Credito - Exame clínico/Oftalmológico': '0',\n",
       " 'Credito - Exame clínico/Toxicológico': '0',\n",
       " 'Credito - Exame prático/A': '1',\n",
       " 'Credito - Exame prático/B': '1',\n",
       " 'Credito - Exame prático/D': '0',\n",
       " 'Credito - Exame teórico/': '1',\n",
       " 'Credito - Aulas práticas/A': '16',\n",
       " 'Credito - Aulas práticas/B': '16',\n",
       " 'Credito - Aulas práticas/D': '0',\n",
       " 'Credito - Aulas práticas extras/A': '0',\n",
       " 'Credito - Aulas práticas extras/B': '0',\n",
       " 'Credito - Aulas práticas extras/D': '0',\n",
       " 'Credito - Aulas práticas noturnas/A': '4',\n",
       " 'Credito - Aulas práticas noturnas/B': '4',\n",
       " 'Credito - Aulas práticas noturnas/D': '0',\n",
       " 'Credito - Aulas práticas simulador/A': '0',\n",
       " 'Credito - Aulas práticas simulador/B': '0',\n",
       " 'Credito - Aulas práticas simulador/D': '0',\n",
       " 'Credito - Aulas teóricas/': '45',\n",
       " 'Descrição': 'Contrato - Serviços: 1° HABILITAÇÃO AB - CARTÃO (1)',\n",
       " 'Tipo': 'Entrada (receber)',\n",
       " 'Usuário': 'Gisele',\n",
       " 'Data de cadastro': '23/01/2023 13:11:25',\n",
       " 'Valor total': 'R$ 2.100,00',\n",
       " 'Já quitado': 'R$ 2.100,00',\n",
       " 'Parcelas': '1/1',\n",
       " 'Parcelas em atraso': '0',\n",
       " 'Forma de pagamento': 'Cartão de Crédito',\n",
       " 'Aluno ativo': 'Sim',\n",
       " 'Origem': 'Letreiro da Autoescola',\n",
       " 'Número de\\nregistro': '-',\n",
       " 'Início do processo': '',\n",
       " 'Cat. pretendida\\nN': 'AB',\n",
       " 'RG': '316267566',\n",
       " 'Data de emissão': '21/03/2022',\n",
       " 'Órgão emissor': 'detran',\n",
       " 'Mãe': 'Joelma da Cruz Sousa Pinto',\n",
       " 'Pai': '-',\n",
       " 'Usuário que cadastrou': 'Gisele',\n",
       " 'Local de nascimento\\nN': '-',\n",
       " 'Dados bancários\\n N': '-',\n",
       " 'Data de nascimento': '01/01/2001',\n",
       " 'E-mail': '-',\n",
       " 'Estado civil': '',\n",
       " 'Profissão': '-',\n",
       " 'Nacionalidade': '',\n",
       " 'Naturalidade': '',\n",
       " 'Gênero': 'Masculino',\n",
       " 'Escolaridade': '',\n",
       " 'Facebook': '-',\n",
       " 'Doador de órgãos': 'Não',\n",
       " 'Tipo Sanguíneo': ''}"
      ]
     },
     "execution_count": 13,
     "metadata": {},
     "output_type": "execute_result"
    }
   ],
   "source": [
    "infos"
   ]
  },
  {
   "cell_type": "code",
   "execution_count": 14,
   "metadata": {},
   "outputs": [],
   "source": [
    "import json\n",
    "with open('cfc.json', 'w') as fp:\n",
    "    json.dump(infos, fp)"
   ]
  },
  {
   "cell_type": "code",
   "execution_count": 10,
   "metadata": {},
   "outputs": [
    {
     "data": {
      "text/plain": [
       "4334917"
      ]
     },
     "execution_count": 10,
     "metadata": {},
     "output_type": "execute_result"
    }
   ],
   "source": [
    "id"
   ]
  },
  {
   "cell_type": "code",
   "execution_count": null,
   "metadata": {},
   "outputs": [],
   "source": []
  }
 ],
 "metadata": {
  "kernelspec": {
   "display_name": "Python 3",
   "language": "python",
   "name": "python3"
  },
  "language_info": {
   "codemirror_mode": {
    "name": "ipython",
    "version": 3
   },
   "file_extension": ".py",
   "mimetype": "text/x-python",
   "name": "python",
   "nbconvert_exporter": "python",
   "pygments_lexer": "ipython3",
   "version": "3.8.10"
  },
  "orig_nbformat": 4,
  "vscode": {
   "interpreter": {
    "hash": "31f2aee4e71d21fbe5cf8b01ff0e069b9275f58929596ceb00d14d90e3e16cd6"
   }
  }
 },
 "nbformat": 4,
 "nbformat_minor": 2
}
