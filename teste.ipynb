{
 "cells": [
  {
   "cell_type": "code",
   "execution_count": 28,
   "metadata": {},
   "outputs": [],
   "source": [
    "import json\n",
    "file = 'result.json'\n",
    "with open(file, 'rb') as f:\n",
    "    dados = json.load(f)"
   ]
  },
  {
   "cell_type": "code",
   "execution_count": 25,
   "metadata": {},
   "outputs": [],
   "source": [
    "def decode_text(texto):\n",
    "    try:\n",
    "        texto_decode = texto.encode(\"ISO-8859-1\").decode(\"utf-8\")\n",
    "        texto_bytes = bytes(texto_decode,'UTF-8')\n",
    "        texto_convertido = texto_bytes.decode('unicode_escape').encode('raw_unicode_escape')\n",
    "        return texto_convertido.decode('utf-8')\n",
    "    except: \n",
    "        return texto"
   ]
  },
  {
   "cell_type": "code",
   "execution_count": 37,
   "metadata": {},
   "outputs": [
    {
     "name": "stdout",
     "output_type": "stream",
     "text": [
      "300 325\n",
      "861 886\n",
      "1441 1466\n",
      "1993 2018\n"
     ]
    }
   ],
   "source": [
    "import re\n",
    "pattern_processo = re.compile(\"\\d{7}[-|.]?\\d{2}[-|.]?\\d{4}[-|.]?\\d[-|.]?\\d{2}[-|.]?\\d{4}\")\n",
    "# corte_inicial = re.search(pattern_processo, dado).span()[1]\n",
    "for x in re.finditer(pattern_processo, dado):\n",
    "    print(x.start(), x.end())"
   ]
  },
  {
   "cell_type": "code",
   "execution_count": null,
   "metadata": {},
   "outputs": [],
   "source": []
  }
 ],
 "metadata": {
  "kernelspec": {
   "display_name": "Python 3",
   "language": "python",
   "name": "python3"
  },
  "language_info": {
   "codemirror_mode": {
    "name": "ipython",
    "version": 3
   },
   "file_extension": ".py",
   "mimetype": "text/x-python",
   "name": "python",
   "nbconvert_exporter": "python",
   "pygments_lexer": "ipython3",
   "version": "3.8.10"
  },
  "orig_nbformat": 4,
  "vscode": {
   "interpreter": {
    "hash": "916dbcbb3f70747c44a77c7bcd40155683ae19c65e1c03b4aa3499c5328201f1"
   }
  }
 },
 "nbformat": 4,
 "nbformat_minor": 2
}
